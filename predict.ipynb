{
 "cells": [
  {
   "cell_type": "code",
   "execution_count": 14,
   "metadata": {},
   "outputs": [],
   "source": [
    "import mmlibrary\n",
    "import io\n",
    "import pickle\n",
    "\n",
    "import aip_utils\n",
    "import preprocess_data\n",
    "from datetime import date\n",
    "from sklearn.metrics import accuracy_score, f1_score, recall_score, precision_score"
   ]
  },
  {
   "cell_type": "code",
   "execution_count": 15,
   "metadata": {},
   "outputs": [],
   "source": [
    "# Load Model\n",
    "clf = aip_utils.load_pickled_model_binary()\n",
    "# Load Test data\n",
    "df_test = aip_utils.read_table_from_file('train.csv')\n",
    "df_test = preprocess_data.clean_data(df_test, drop_passenger_id=True)\n",
    "test_data = df_test.values\n",
    "# Training data features, skip the first column 'Survived'\n",
    "test_features = test_data[:, 1:]\n",
    "\n",
    "# 'Survived' column values\n",
    "test_target = test_data[:, 0]\n",
    "\n",
    "predict_y = clf.predict(test_features)\n",
    "mmlibrary.saveKpiResult(\"accuracy\", date.today().strftime(\"%Y/%m/%d\"), accuracy_score(test_target, predict_y))\n",
    "mmlibrary.saveKpiResult(\"precision\", date.today().strftime(\"%Y/%m/%d\"), precision_score(test_target, predict_y))\n",
    "mmlibrary.saveKpiResult(\"recall\", date.today().strftime(\"%Y/%m/%d\"), recall_score(test_target, predict_y))\n",
    "mmlibrary.saveKpiResult(\"f1\", date.today().strftime(\"%Y/%m/%d\"), f1_score(test_target, predict_y))\n"
   ]
  },
  {
   "cell_type": "code",
   "execution_count": null,
   "metadata": {},
   "outputs": [],
   "source": []
  }
 ],
 "metadata": {
  "kernelspec": {
   "display_name": "Python 3",
   "language": "python",
   "name": "python3"
  },
  "language_info": {
   "codemirror_mode": {
    "name": "ipython",
    "version": 3
   },
   "file_extension": ".py",
   "mimetype": "text/x-python",
   "name": "python",
   "nbconvert_exporter": "python",
   "pygments_lexer": "ipython3",
   "version": "3.7.6"
  }
 },
 "nbformat": 4,
 "nbformat_minor": 2
}
